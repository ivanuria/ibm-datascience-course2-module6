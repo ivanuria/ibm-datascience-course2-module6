{
 "cells": [
  {
   "cell_type": "markdown",
   "id": "3b5cb4c4-1bab-40e4-9e1a-8355cea71f68",
   "metadata": {},
   "source": [
    "# Data Science Tools and Ecosystem"
   ]
  },
  {
   "cell_type": "markdown",
   "id": "5134e342-4d39-4ddc-8e87-b90e5db99644",
   "metadata": {},
   "source": [
    "In this notebook, Data Science Tools and Ecosystem are summarized."
   ]
  },
  {
   "cell_type": "markdown",
   "id": "cf7a4a6c-92f2-4c60-9359-71a439a46e75",
   "metadata": {},
   "source": [
    "Some of the popular languages that Data Scientists use are:\n",
    "1. Python\n",
    "2. R\n",
    "3. Julia"
   ]
  },
  {
   "cell_type": "markdown",
   "id": "657c4fc8-372e-44e3-9b8e-ba32b4c5e48c",
   "metadata": {},
   "source": [
    "Some of the commonly used libraries used by Data Scientists include:\n",
    "1. Pandas\n",
    "2. Matplotlib\n",
    "3. ggplot"
   ]
  },
  {
   "cell_type": "markdown",
   "id": "f92713ca-581e-4ae2-9f33-ce54f2418c14",
   "metadata": {},
   "source": [
    "| Data Science Tools |\n",
    "|:------------------:|\n",
    "|Jupyter Lab         |\n",
    "|Watson Studio       |\n",
    "|R-Studio            |"
   ]
  },
  {
   "cell_type": "markdown",
   "id": "0327ed40-77a2-4814-a940-ac10b02e0e34",
   "metadata": {},
   "source": [
    "### Below are a few examples of evaluating arithmetic expressions in Python"
   ]
  },
  {
   "cell_type": "code",
   "execution_count": 4,
   "id": "f048c309-3728-45a8-a1a2-47a625db5693",
   "metadata": {},
   "outputs": [
    {
     "data": {
      "text/plain": [
       "17"
      ]
     },
     "execution_count": 4,
     "metadata": {},
     "output_type": "execute_result"
    }
   ],
   "source": [
    "# This a simple arithmetic expression to mutiply then add integers\n",
    "(3*4)+5"
   ]
  },
  {
   "cell_type": "code",
   "execution_count": 5,
   "id": "adcb4fe5-8d72-49ab-8311-009cbc80b59b",
   "metadata": {},
   "outputs": [
    {
     "data": {
      "text/plain": [
       "3.3333333333333335"
      ]
     },
     "execution_count": 5,
     "metadata": {},
     "output_type": "execute_result"
    }
   ],
   "source": [
    "# This will convert 200 minutes to hours by diving by 60\n",
    "200 / 60"
   ]
  },
  {
   "cell_type": "markdown",
   "id": "2c76aac4-9144-40de-9e96-48e71253e96d",
   "metadata": {},
   "source": [
    "**Objectives**\n",
    "* A list of popular languages\n",
    "* Another list of commonly used libraries\n",
    "* A third list of data science tools\n",
    "* Some simple python examples\n",
    "* A killer bunny. If you hadn't seen it yet you are already dead. It was nice to meet you."
   ]
  },
  {
   "cell_type": "markdown",
   "id": "bfa5f4e0-fd22-45ec-a495-125c4434aaca",
   "metadata": {},
   "source": [
    "## Author\n",
    "Iván Uría Rivas"
   ]
  },
  {
   "cell_type": "code",
   "execution_count": null,
   "id": "c1c9df6e-1e8a-4e63-a356-528670dc86e1",
   "metadata": {},
   "outputs": [],
   "source": []
  }
 ],
 "metadata": {
  "kernelspec": {
   "display_name": "Python 3 (ipykernel)",
   "language": "python",
   "name": "python3"
  },
  "language_info": {
   "codemirror_mode": {
    "name": "ipython",
    "version": 3
   },
   "file_extension": ".py",
   "mimetype": "text/x-python",
   "name": "python",
   "nbconvert_exporter": "python",
   "pygments_lexer": "ipython3",
   "version": "3.12.7"
  }
 },
 "nbformat": 4,
 "nbformat_minor": 5
}
